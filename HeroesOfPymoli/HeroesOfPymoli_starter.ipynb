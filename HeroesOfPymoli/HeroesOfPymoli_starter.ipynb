{
 "cells": [
  {
   "cell_type": "markdown",
   "metadata": {},
   "source": [
    "### Note\n",
    "* Instructions have been included for each segment. You do not have to follow them exactly, but they are included to help you think through the steps."
   ]
  },
  {
   "cell_type": "code",
   "execution_count": 1,
   "metadata": {},
   "outputs": [],
   "source": [
    "# Importing Dependencies\n",
    "import pandas as pd\n",
    "import csv\n",
    "import matplotlib as plt\n",
    "import numpy as np"
   ]
  },
  {
   "cell_type": "code",
   "execution_count": 2,
   "metadata": {},
   "outputs": [],
   "source": [
    "# Loading file\n",
    "purchases_file = \"Resources/purchase_data.csv\"\n",
    "# Reading file\n",
    "purchases_file_df = pd.read_csv(purchases_file)"
   ]
  },
  {
   "cell_type": "code",
   "execution_count": 3,
   "metadata": {
    "scrolled": true
   },
   "outputs": [
    {
     "data": {
      "text/html": [
       "<div>\n",
       "<style scoped>\n",
       "    .dataframe tbody tr th:only-of-type {\n",
       "        vertical-align: middle;\n",
       "    }\n",
       "\n",
       "    .dataframe tbody tr th {\n",
       "        vertical-align: top;\n",
       "    }\n",
       "\n",
       "    .dataframe thead th {\n",
       "        text-align: right;\n",
       "    }\n",
       "</style>\n",
       "<table border=\"1\" class=\"dataframe\">\n",
       "  <thead>\n",
       "    <tr style=\"text-align: right;\">\n",
       "      <th></th>\n",
       "      <th>Purchase ID</th>\n",
       "      <th>SN</th>\n",
       "      <th>Age</th>\n",
       "      <th>Gender</th>\n",
       "      <th>Item ID</th>\n",
       "      <th>Item Name</th>\n",
       "      <th>Price</th>\n",
       "    </tr>\n",
       "  </thead>\n",
       "  <tbody>\n",
       "    <tr>\n",
       "      <th>0</th>\n",
       "      <td>0</td>\n",
       "      <td>Lisim78</td>\n",
       "      <td>20</td>\n",
       "      <td>Male</td>\n",
       "      <td>108</td>\n",
       "      <td>Extraction, Quickblade Of Trembling Hands</td>\n",
       "      <td>3.53</td>\n",
       "    </tr>\n",
       "    <tr>\n",
       "      <th>1</th>\n",
       "      <td>1</td>\n",
       "      <td>Lisovynya38</td>\n",
       "      <td>40</td>\n",
       "      <td>Male</td>\n",
       "      <td>143</td>\n",
       "      <td>Frenzied Scimitar</td>\n",
       "      <td>1.56</td>\n",
       "    </tr>\n",
       "    <tr>\n",
       "      <th>2</th>\n",
       "      <td>2</td>\n",
       "      <td>Ithergue48</td>\n",
       "      <td>24</td>\n",
       "      <td>Male</td>\n",
       "      <td>92</td>\n",
       "      <td>Final Critic</td>\n",
       "      <td>4.88</td>\n",
       "    </tr>\n",
       "  </tbody>\n",
       "</table>\n",
       "</div>"
      ],
      "text/plain": [
       "   Purchase ID           SN  Age Gender  Item ID  \\\n",
       "0            0      Lisim78   20   Male      108   \n",
       "1            1  Lisovynya38   40   Male      143   \n",
       "2            2   Ithergue48   24   Male       92   \n",
       "\n",
       "                                   Item Name  Price  \n",
       "0  Extraction, Quickblade Of Trembling Hands   3.53  \n",
       "1                          Frenzied Scimitar   1.56  \n",
       "2                               Final Critic   4.88  "
      ]
     },
     "execution_count": 3,
     "metadata": {},
     "output_type": "execute_result"
    }
   ],
   "source": [
    "# Printing dataset\n",
    "purchases_file_df.head(3)"
   ]
  },
  {
   "cell_type": "code",
   "execution_count": 4,
   "metadata": {},
   "outputs": [
    {
     "data": {
      "text/html": [
       "<div>\n",
       "<style scoped>\n",
       "    .dataframe tbody tr th:only-of-type {\n",
       "        vertical-align: middle;\n",
       "    }\n",
       "\n",
       "    .dataframe tbody tr th {\n",
       "        vertical-align: top;\n",
       "    }\n",
       "\n",
       "    .dataframe thead th {\n",
       "        text-align: right;\n",
       "    }\n",
       "</style>\n",
       "<table border=\"1\" class=\"dataframe\">\n",
       "  <thead>\n",
       "    <tr style=\"text-align: right;\">\n",
       "      <th></th>\n",
       "      <th>SN</th>\n",
       "      <th>Age</th>\n",
       "      <th>Gender</th>\n",
       "    </tr>\n",
       "  </thead>\n",
       "  <tbody>\n",
       "    <tr>\n",
       "      <th>0</th>\n",
       "      <td>Lisim78</td>\n",
       "      <td>20</td>\n",
       "      <td>Male</td>\n",
       "    </tr>\n",
       "    <tr>\n",
       "      <th>1</th>\n",
       "      <td>Lisovynya38</td>\n",
       "      <td>40</td>\n",
       "      <td>Male</td>\n",
       "    </tr>\n",
       "    <tr>\n",
       "      <th>2</th>\n",
       "      <td>Ithergue48</td>\n",
       "      <td>24</td>\n",
       "      <td>Male</td>\n",
       "    </tr>\n",
       "  </tbody>\n",
       "</table>\n",
       "</div>"
      ],
      "text/plain": [
       "            SN  Age Gender\n",
       "0      Lisim78   20   Male\n",
       "1  Lisovynya38   40   Male\n",
       "2   Ithergue48   24   Male"
      ]
     },
     "execution_count": 4,
     "metadata": {},
     "output_type": "execute_result"
    }
   ],
   "source": [
    "# Selecting columns for the new dataframe\n",
    "player_demographics_df=purchases_file_df.loc[:,[\"SN\",\"Age\",\"Gender\"]]\n",
    "# Dropping duplicates\n",
    "player_demographics_df=player_demographics_df.drop_duplicates()\n",
    "player_demographics_df.head(3)"
   ]
  },
  {
   "cell_type": "markdown",
   "metadata": {},
   "source": [
    "## Player Count"
   ]
  },
  {
   "cell_type": "code",
   "execution_count": 5,
   "metadata": {},
   "outputs": [
    {
     "name": "stdout",
     "output_type": "stream",
     "text": [
      "There's a total of 576 players.\n"
     ]
    }
   ],
   "source": [
    "# Total number of players\n",
    "total_players=player_demographics_df[\"SN\"].nunique()\n",
    "print(f\"There's a total of {total_players} players.\")"
   ]
  },
  {
   "cell_type": "markdown",
   "metadata": {},
   "source": [
    "## Purchasing Analysis (Total)"
   ]
  },
  {
   "cell_type": "markdown",
   "metadata": {},
   "source": [
    "* Number of Unique Items\n",
    "* Average Purchase Price\n",
    "* Total number of Purchases\n",
    "* Total Revenue"
   ]
  },
  {
   "cell_type": "code",
   "execution_count": 6,
   "metadata": {},
   "outputs": [
    {
     "name": "stdout",
     "output_type": "stream",
     "text": [
      "The Number of Unique Items is: 179.\n"
     ]
    }
   ],
   "source": [
    "# Number of Unique Items\n",
    "unique_items=len(purchases_file_df[\"Item Name\"].unique())\n",
    "print(f\"The Number of Unique Items is: {unique_items}.\")"
   ]
  },
  {
   "cell_type": "code",
   "execution_count": 7,
   "metadata": {},
   "outputs": [
    {
     "name": "stdout",
     "output_type": "stream",
     "text": [
      "The Average Purchase Price is: $3.05\n"
     ]
    }
   ],
   "source": [
    "# Average Purchase Price\n",
    "average_purchase=round(purchases_file_df[\"Price\"].mean(),2)\n",
    "print(f\"The Average Purchase Price is: ${average_purchase}\")"
   ]
  },
  {
   "cell_type": "code",
   "execution_count": 8,
   "metadata": {},
   "outputs": [
    {
     "name": "stdout",
     "output_type": "stream",
     "text": [
      "The Total Number of Purchases is: 780.\n"
     ]
    }
   ],
   "source": [
    "# Total Number of Purchases\n",
    "total_purchases=len(purchases_file_df[\"Purchase ID\"])\n",
    "print(f\"The Total Number of Purchases is: {total_purchases}.\")"
   ]
  },
  {
   "cell_type": "code",
   "execution_count": 9,
   "metadata": {},
   "outputs": [
    {
     "name": "stdout",
     "output_type": "stream",
     "text": [
      "The Total Revenue is: $2379.77.\n"
     ]
    }
   ],
   "source": [
    "# Total Revenue\n",
    "total_revenue=purchases_file_df[\"Price\"].sum()\n",
    "print(f\"The Total Revenue is: ${total_revenue}.\")"
   ]
  },
  {
   "cell_type": "code",
   "execution_count": 10,
   "metadata": {},
   "outputs": [
    {
     "data": {
      "text/html": [
       "<div>\n",
       "<style scoped>\n",
       "    .dataframe tbody tr th:only-of-type {\n",
       "        vertical-align: middle;\n",
       "    }\n",
       "\n",
       "    .dataframe tbody tr th {\n",
       "        vertical-align: top;\n",
       "    }\n",
       "\n",
       "    .dataframe thead th {\n",
       "        text-align: right;\n",
       "    }\n",
       "</style>\n",
       "<table border=\"1\" class=\"dataframe\">\n",
       "  <thead>\n",
       "    <tr style=\"text-align: right;\">\n",
       "      <th></th>\n",
       "      <th>Number of Unique Items</th>\n",
       "      <th>Average Purchase Price</th>\n",
       "      <th>Total Number of Purchases</th>\n",
       "      <th>Total Revenue ($)</th>\n",
       "    </tr>\n",
       "  </thead>\n",
       "  <tbody>\n",
       "    <tr>\n",
       "      <th>0</th>\n",
       "      <td>179</td>\n",
       "      <td>3.05</td>\n",
       "      <td>780</td>\n",
       "      <td>2379.77</td>\n",
       "    </tr>\n",
       "  </tbody>\n",
       "</table>\n",
       "</div>"
      ],
      "text/plain": [
       "   Number of Unique Items  Average Purchase Price  Total Number of Purchases  \\\n",
       "0                     179                    3.05                        780   \n",
       "\n",
       "   Total Revenue ($)  \n",
       "0            2379.77  "
      ]
     },
     "execution_count": 10,
     "metadata": {},
     "output_type": "execute_result"
    }
   ],
   "source": [
    "# Creating Summary DataFrame\n",
    "summary_df=pd.DataFrame({\n",
    "    \"Number of Unique Items\": [unique_items],\n",
    "    \"Average Purchase Price\": [average_purchase],\n",
    "    \"Total Number of Purchases\": [total_purchases],\n",
    "    \"Total Revenue ($)\": [total_revenue]\n",
    "})\n",
    "\n",
    "# Printing DataFrame\n",
    "summary_df"
   ]
  },
  {
   "cell_type": "markdown",
   "metadata": {},
   "source": [
    "## Gender Demographics"
   ]
  },
  {
   "cell_type": "markdown",
   "metadata": {},
   "source": [
    "* Percentage and Count of Male Players\n",
    "\n",
    "\n",
    "* Percentage and Count of Female Players\n",
    "\n",
    "\n",
    "* Percentage and Count of Other / Non-Disclosed\n",
    "\n",
    "\n"
   ]
  },
  {
   "cell_type": "code",
   "execution_count": 11,
   "metadata": {},
   "outputs": [
    {
     "name": "stdout",
     "output_type": "stream",
     "text": [
      "There is a total of 576 users.\n"
     ]
    }
   ],
   "source": [
    "# Droping duplicate users with subset for a new dataset\n",
    "drop_sn_df =purchases_file_df.drop_duplicates(subset=[\"SN\"])\n",
    "# Unique users\n",
    "total_sn = drop_sn_df.shape[0]\n",
    "print(f\"There is a total of {total_sn} users.\")"
   ]
  },
  {
   "cell_type": "code",
   "execution_count": 12,
   "metadata": {},
   "outputs": [
    {
     "data": {
      "text/html": [
       "<div>\n",
       "<style scoped>\n",
       "    .dataframe tbody tr th:only-of-type {\n",
       "        vertical-align: middle;\n",
       "    }\n",
       "\n",
       "    .dataframe tbody tr th {\n",
       "        vertical-align: top;\n",
       "    }\n",
       "\n",
       "    .dataframe thead th {\n",
       "        text-align: right;\n",
       "    }\n",
       "</style>\n",
       "<table border=\"1\" class=\"dataframe\">\n",
       "  <thead>\n",
       "    <tr style=\"text-align: right;\">\n",
       "      <th></th>\n",
       "      <th>Purchase ID</th>\n",
       "      <th>SN</th>\n",
       "      <th>Age</th>\n",
       "      <th>Item ID</th>\n",
       "      <th>Item Name</th>\n",
       "      <th>Price</th>\n",
       "    </tr>\n",
       "    <tr>\n",
       "      <th>Gender</th>\n",
       "      <th></th>\n",
       "      <th></th>\n",
       "      <th></th>\n",
       "      <th></th>\n",
       "      <th></th>\n",
       "      <th></th>\n",
       "    </tr>\n",
       "  </thead>\n",
       "  <tbody>\n",
       "    <tr>\n",
       "      <th>Female</th>\n",
       "      <td>81</td>\n",
       "      <td>81</td>\n",
       "      <td>81</td>\n",
       "      <td>81</td>\n",
       "      <td>81</td>\n",
       "      <td>81</td>\n",
       "    </tr>\n",
       "    <tr>\n",
       "      <th>Male</th>\n",
       "      <td>484</td>\n",
       "      <td>484</td>\n",
       "      <td>484</td>\n",
       "      <td>484</td>\n",
       "      <td>484</td>\n",
       "      <td>484</td>\n",
       "    </tr>\n",
       "    <tr>\n",
       "      <th>Other / Non-Disclosed</th>\n",
       "      <td>11</td>\n",
       "      <td>11</td>\n",
       "      <td>11</td>\n",
       "      <td>11</td>\n",
       "      <td>11</td>\n",
       "      <td>11</td>\n",
       "    </tr>\n",
       "  </tbody>\n",
       "</table>\n",
       "</div>"
      ],
      "text/plain": [
       "                       Purchase ID   SN  Age  Item ID  Item Name  Price\n",
       "Gender                                                                 \n",
       "Female                          81   81   81       81         81     81\n",
       "Male                           484  484  484      484        484    484\n",
       "Other / Non-Disclosed           11   11   11       11         11     11"
      ]
     },
     "execution_count": 12,
     "metadata": {},
     "output_type": "execute_result"
    }
   ],
   "source": [
    "# Grouping by gender and counting totals\n",
    "drop_sn_df=drop_sn_df.groupby([\"Gender\"]).count()\n",
    "drop_sn_df"
   ]
  },
  {
   "cell_type": "code",
   "execution_count": 13,
   "metadata": {},
   "outputs": [],
   "source": [
    "female = drop_sn_df.loc['Female', \"SN\"]\n",
    "male =  drop_sn_df.loc['Male', \"SN\"]\n",
    "other =  drop_sn_df.loc['Other / Non-Disclosed', \"SN\"]"
   ]
  },
  {
   "cell_type": "code",
   "execution_count": 14,
   "metadata": {},
   "outputs": [],
   "source": [
    "# Female\n",
    "female_perc = (female/total_sn)*100\n",
    "female_perc= round(female_perc,2)\n",
    "\n",
    "# Male\n",
    "male_perc =(male/total_sn)*100\n",
    "male_perc= round(male_perc,2)\n",
    "\n",
    "# Other / Non-Disclosed\n",
    "other_perc = (other/total_sn)*100\n",
    "other_perc= round(other_perc,2)"
   ]
  },
  {
   "cell_type": "code",
   "execution_count": 15,
   "metadata": {},
   "outputs": [
    {
     "name": "stdout",
     "output_type": "stream",
     "text": [
      "The Percentage Count of Female Players is: 14.06%, with 81 female users.\n",
      "The Percentage Count of Male Players is: 84.03%, with 484 male users.\n",
      "The Percentage Count of Other / Non-Disclosed Players is: 1.91%, with 11 users.\n"
     ]
    }
   ],
   "source": [
    "print(f\"The Percentage Count of Female Players is: {female_perc}%, with {female} female users.\")\n",
    "print(f\"The Percentage Count of Male Players is: {male_perc}%, with {male} male users.\")\n",
    "print(f\"The Percentage Count of Other / Non-Disclosed Players is: {other_perc}%, with {other} users.\")"
   ]
  },
  {
   "cell_type": "markdown",
   "metadata": {},
   "source": [
    "\n",
    "## Purchasing Analysis (Gender)"
   ]
  },
  {
   "cell_type": "markdown",
   "metadata": {},
   "source": [
    "* Per gender:\n",
    "\n",
    "    * Purchase Count\n",
    "    * Average Purchase Price \n",
    "    * Average Purchase Total\n",
    "    \n",
    "    \n",
    "* Summary Table"
   ]
  },
  {
   "cell_type": "code",
   "execution_count": 16,
   "metadata": {
    "scrolled": true
   },
   "outputs": [
    {
     "data": {
      "text/html": [
       "<div>\n",
       "<style scoped>\n",
       "    .dataframe tbody tr th:only-of-type {\n",
       "        vertical-align: middle;\n",
       "    }\n",
       "\n",
       "    .dataframe tbody tr th {\n",
       "        vertical-align: top;\n",
       "    }\n",
       "\n",
       "    .dataframe thead th {\n",
       "        text-align: right;\n",
       "    }\n",
       "</style>\n",
       "<table border=\"1\" class=\"dataframe\">\n",
       "  <thead>\n",
       "    <tr style=\"text-align: right;\">\n",
       "      <th></th>\n",
       "      <th>Total Purchase Count</th>\n",
       "      <th>Total Purchase Value</th>\n",
       "      <th>Average Purchase Price</th>\n",
       "      <th>Average Purchase Total Per Person</th>\n",
       "    </tr>\n",
       "    <tr>\n",
       "      <th>Gender</th>\n",
       "      <th></th>\n",
       "      <th></th>\n",
       "      <th></th>\n",
       "      <th></th>\n",
       "    </tr>\n",
       "  </thead>\n",
       "  <tbody>\n",
       "    <tr>\n",
       "      <th>Female</th>\n",
       "      <td>113</td>\n",
       "      <td>$361.94</td>\n",
       "      <td>$3.20</td>\n",
       "      <td>$0.63</td>\n",
       "    </tr>\n",
       "    <tr>\n",
       "      <th>Male</th>\n",
       "      <td>652</td>\n",
       "      <td>$1,967.64</td>\n",
       "      <td>$3.02</td>\n",
       "      <td>$3.42</td>\n",
       "    </tr>\n",
       "    <tr>\n",
       "      <th>Other / Non-Disclosed</th>\n",
       "      <td>15</td>\n",
       "      <td>$50.19</td>\n",
       "      <td>$3.35</td>\n",
       "      <td>$0.09</td>\n",
       "    </tr>\n",
       "  </tbody>\n",
       "</table>\n",
       "</div>"
      ],
      "text/plain": [
       "                       Total Purchase Count Total Purchase Value  \\\n",
       "Gender                                                             \n",
       "Female                                  113              $361.94   \n",
       "Male                                    652            $1,967.64   \n",
       "Other / Non-Disclosed                    15               $50.19   \n",
       "\n",
       "                      Average Purchase Price Average Purchase Total Per Person  \n",
       "Gender                                                                          \n",
       "Female                                 $3.20                             $0.63  \n",
       "Male                                   $3.02                             $3.42  \n",
       "Other / Non-Disclosed                  $3.35                             $0.09  "
      ]
     },
     "execution_count": 16,
     "metadata": {},
     "output_type": "execute_result"
    }
   ],
   "source": [
    "# Total Purchase Count by Gender\n",
    "purchase_count=purchases_file_df.groupby([\"Gender\"]).count()[\"Price\"].rename(\"Total Purchase Value\")\n",
    "\n",
    "# Total Purchase Value by Gender\n",
    "purchase_value=purchases_file_df.groupby([\"Gender\"]).sum()[\"Price\"].rename(\"Total Purchase Value\")\n",
    "\n",
    "# Average Purchase Price by Gender\n",
    "avg_purchase_price=purchases_file_df.groupby([\"Gender\"]).mean()[\"Price\"].rename(\"Average Purchase Price\")\n",
    "\n",
    "# Average Purchase Total Per User\n",
    "avg_purchase_total=purchase_value/total_sn\n",
    "\n",
    "# New DataFrame with results.\n",
    "purchase_gender_df=pd.DataFrame({\"Total Purchase Count\": purchase_count, \\\n",
    "                                 \"Total Purchase Value\":purchase_value, \\\n",
    "                                 \"Average Purchase Price\":avg_purchase_price,\\\n",
    "                                 \"Average Purchase Total Per Person\":avg_purchase_total})\n",
    "\n",
    "## Formatting Values\n",
    "purchase_gender_df[\"Total Purchase Value\"]=purchase_gender_df[\"Total Purchase Value\"].map(\"${:,.2f}\".format)\n",
    "purchase_gender_df[\"Average Purchase Price\"]=purchase_gender_df[\"Average Purchase Price\"].map(\"${:,.2f}\".format)\n",
    "purchase_gender_df[\"Average Purchase Total Per Person\"]=purchase_gender_df[\"Average Purchase Total Per Person\"].map(\"${:,.2f}\".format)\n",
    "\n",
    "purchase_gender_df.style.set_caption(\"Purchasing Analysis by Gender\")\n",
    "\n",
    "# Printing DataFrame\n",
    "purchase_gender_df"
   ]
  },
  {
   "cell_type": "markdown",
   "metadata": {},
   "source": [
    "## Age Demographics"
   ]
  },
  {
   "cell_type": "markdown",
   "metadata": {},
   "source": [
    "* Categorizing players by age: using bings and cut\n",
    "\n",
    "* Displaying new Summary Table"
   ]
  },
  {
   "cell_type": "code",
   "execution_count": 17,
   "metadata": {},
   "outputs": [
    {
     "data": {
      "text/html": [
       "<div>\n",
       "<style scoped>\n",
       "    .dataframe tbody tr th:only-of-type {\n",
       "        vertical-align: middle;\n",
       "    }\n",
       "\n",
       "    .dataframe tbody tr th {\n",
       "        vertical-align: top;\n",
       "    }\n",
       "\n",
       "    .dataframe thead th {\n",
       "        text-align: right;\n",
       "    }\n",
       "</style>\n",
       "<table border=\"1\" class=\"dataframe\">\n",
       "  <thead>\n",
       "    <tr style=\"text-align: right;\">\n",
       "      <th></th>\n",
       "      <th>Gender</th>\n",
       "      <th>SN</th>\n",
       "      <th>Age</th>\n",
       "    </tr>\n",
       "  </thead>\n",
       "  <tbody>\n",
       "    <tr>\n",
       "      <th>0</th>\n",
       "      <td>Male</td>\n",
       "      <td>Lisim78</td>\n",
       "      <td>20</td>\n",
       "    </tr>\n",
       "    <tr>\n",
       "      <th>1</th>\n",
       "      <td>Male</td>\n",
       "      <td>Lisovynya38</td>\n",
       "      <td>40</td>\n",
       "    </tr>\n",
       "    <tr>\n",
       "      <th>2</th>\n",
       "      <td>Male</td>\n",
       "      <td>Ithergue48</td>\n",
       "      <td>24</td>\n",
       "    </tr>\n",
       "    <tr>\n",
       "      <th>3</th>\n",
       "      <td>Male</td>\n",
       "      <td>Chamassasya86</td>\n",
       "      <td>24</td>\n",
       "    </tr>\n",
       "    <tr>\n",
       "      <th>4</th>\n",
       "      <td>Male</td>\n",
       "      <td>Iskosia90</td>\n",
       "      <td>23</td>\n",
       "    </tr>\n",
       "  </tbody>\n",
       "</table>\n",
       "</div>"
      ],
      "text/plain": [
       "  Gender             SN  Age\n",
       "0   Male        Lisim78   20\n",
       "1   Male    Lisovynya38   40\n",
       "2   Male     Ithergue48   24\n",
       "3   Male  Chamassasya86   24\n",
       "4   Male      Iskosia90   23"
      ]
     },
     "execution_count": 17,
     "metadata": {},
     "output_type": "execute_result"
    }
   ],
   "source": [
    "# Creating new Dataframe\n",
    "player_demographics_df = purchases_file_df.loc[:, [\"Gender\", \"SN\", \"Age\"]]\n",
    "player_demographics_df = player_demographics_df.drop_duplicates()\n",
    "player_demographics_df.head(5)"
   ]
  },
  {
   "cell_type": "code",
   "execution_count": 18,
   "metadata": {},
   "outputs": [
    {
     "name": "stdout",
     "output_type": "stream",
     "text": [
      "The maximum age in the dataset is 45.\n",
      "The minimum age in the dataset is 7.\n"
     ]
    }
   ],
   "source": [
    "# Establishing my bins via Max and Min Ages.\n",
    "\n",
    "max_age=purchases_file_df[\"Age\"].max()\n",
    "min_age=purchases_file_df[\"Age\"].min()\n",
    "    \n",
    "print(f\"The maximum age in the dataset is {max_age}.\")\n",
    "print(f\"The minimum age in the dataset is {min_age}.\")"
   ]
  },
  {
   "cell_type": "code",
   "execution_count": 19,
   "metadata": {},
   "outputs": [
    {
     "data": {
      "text/html": [
       "<div>\n",
       "<style scoped>\n",
       "    .dataframe tbody tr th:only-of-type {\n",
       "        vertical-align: middle;\n",
       "    }\n",
       "\n",
       "    .dataframe tbody tr th {\n",
       "        vertical-align: top;\n",
       "    }\n",
       "\n",
       "    .dataframe thead th {\n",
       "        text-align: right;\n",
       "    }\n",
       "</style>\n",
       "<table border=\"1\" class=\"dataframe\">\n",
       "  <thead>\n",
       "    <tr style=\"text-align: right;\">\n",
       "      <th></th>\n",
       "      <th>Gender</th>\n",
       "      <th>SN</th>\n",
       "      <th>Age</th>\n",
       "      <th>Age Demographic Summary</th>\n",
       "    </tr>\n",
       "  </thead>\n",
       "  <tbody>\n",
       "    <tr>\n",
       "      <th>0</th>\n",
       "      <td>Male</td>\n",
       "      <td>Lisim78</td>\n",
       "      <td>20</td>\n",
       "      <td>Ages from 15-20</td>\n",
       "    </tr>\n",
       "    <tr>\n",
       "      <th>1</th>\n",
       "      <td>Male</td>\n",
       "      <td>Lisovynya38</td>\n",
       "      <td>40</td>\n",
       "      <td>Ages from 35-40</td>\n",
       "    </tr>\n",
       "    <tr>\n",
       "      <th>2</th>\n",
       "      <td>Male</td>\n",
       "      <td>Ithergue48</td>\n",
       "      <td>24</td>\n",
       "      <td>Ages from 20-25</td>\n",
       "    </tr>\n",
       "    <tr>\n",
       "      <th>3</th>\n",
       "      <td>Male</td>\n",
       "      <td>Chamassasya86</td>\n",
       "      <td>24</td>\n",
       "      <td>Ages from 20-25</td>\n",
       "    </tr>\n",
       "    <tr>\n",
       "      <th>4</th>\n",
       "      <td>Male</td>\n",
       "      <td>Iskosia90</td>\n",
       "      <td>23</td>\n",
       "      <td>Ages from 20-25</td>\n",
       "    </tr>\n",
       "  </tbody>\n",
       "</table>\n",
       "</div>"
      ],
      "text/plain": [
       "  Gender             SN  Age Age Demographic Summary\n",
       "0   Male        Lisim78   20         Ages from 15-20\n",
       "1   Male    Lisovynya38   40         Ages from 35-40\n",
       "2   Male     Ithergue48   24         Ages from 20-25\n",
       "3   Male  Chamassasya86   24         Ages from 20-25\n",
       "4   Male      Iskosia90   23         Ages from 20-25"
      ]
     },
     "execution_count": 19,
     "metadata": {},
     "output_type": "execute_result"
    }
   ],
   "source": [
    "# Assigning users to Age Ranges (using bins)\n",
    "# Bins\n",
    "bins=[5,10,15,20,25,30,35,40,45]\n",
    "# Labels\n",
    "bin_labels=[\"Ages from 5-10\",\"Ages from 10-15\",\\\n",
    "            \"Ages from 15-20\",\"Ages from 20-25\",\"Ages from 25-30\",\\\n",
    "            \"Ages from 30-35\",\"Ages from 35-40\",\"Ages from 40-45\"]\n",
    "\n",
    "player_demographics_df[\"Age Demographic Summary\"] = pd.cut(player_demographics_df[\"Age\"], bins, labels=bin_labels, include_lowest=True)\n",
    "# Printing DataFrame\n",
    "player_demographics_df.head(5)"
   ]
  },
  {
   "cell_type": "code",
   "execution_count": 20,
   "metadata": {},
   "outputs": [
    {
     "data": {
      "text/html": [
       "<div>\n",
       "<style scoped>\n",
       "    .dataframe tbody tr th:only-of-type {\n",
       "        vertical-align: middle;\n",
       "    }\n",
       "\n",
       "    .dataframe tbody tr th {\n",
       "        vertical-align: top;\n",
       "    }\n",
       "\n",
       "    .dataframe thead th {\n",
       "        text-align: right;\n",
       "    }\n",
       "</style>\n",
       "<table border=\"1\" class=\"dataframe\">\n",
       "  <thead>\n",
       "    <tr style=\"text-align: right;\">\n",
       "      <th></th>\n",
       "      <th>Total Count</th>\n",
       "      <th>Percentage Of Players</th>\n",
       "    </tr>\n",
       "  </thead>\n",
       "  <tbody>\n",
       "    <tr>\n",
       "      <th>Ages from 20-25</th>\n",
       "      <td>232</td>\n",
       "      <td>40.28%</td>\n",
       "    </tr>\n",
       "    <tr>\n",
       "      <th>Ages from 15-20</th>\n",
       "      <td>150</td>\n",
       "      <td>26.04%</td>\n",
       "    </tr>\n",
       "    <tr>\n",
       "      <th>Ages from 25-30</th>\n",
       "      <td>59</td>\n",
       "      <td>10.24%</td>\n",
       "    </tr>\n",
       "    <tr>\n",
       "      <th>Ages from 10-15</th>\n",
       "      <td>41</td>\n",
       "      <td>7.12%</td>\n",
       "    </tr>\n",
       "    <tr>\n",
       "      <th>Ages from 30-35</th>\n",
       "      <td>37</td>\n",
       "      <td>6.42%</td>\n",
       "    </tr>\n",
       "    <tr>\n",
       "      <th>Ages from 35-40</th>\n",
       "      <td>26</td>\n",
       "      <td>4.51%</td>\n",
       "    </tr>\n",
       "    <tr>\n",
       "      <th>Ages from 5-10</th>\n",
       "      <td>24</td>\n",
       "      <td>4.17%</td>\n",
       "    </tr>\n",
       "    <tr>\n",
       "      <th>Ages from 40-45</th>\n",
       "      <td>7</td>\n",
       "      <td>1.22%</td>\n",
       "    </tr>\n",
       "  </tbody>\n",
       "</table>\n",
       "</div>"
      ],
      "text/plain": [
       "                 Total Count Percentage Of Players\n",
       "Ages from 20-25          232                40.28%\n",
       "Ages from 15-20          150                26.04%\n",
       "Ages from 25-30           59                10.24%\n",
       "Ages from 10-15           41                 7.12%\n",
       "Ages from 30-35           37                 6.42%\n",
       "Ages from 35-40           26                 4.51%\n",
       "Ages from 5-10            24                 4.17%\n",
       "Ages from 40-45            7                 1.22%"
      ]
     },
     "execution_count": 20,
     "metadata": {},
     "output_type": "execute_result"
    }
   ],
   "source": [
    "# Numbers and percentages by age group\n",
    "players_pergroup=player_demographics_df[\"Age Demographic Summary\"].value_counts()\n",
    "percentage=players_pergroup/total_players\n",
    "\n",
    "# Creating DataFrame with analysis and formatting\n",
    "age_demographics=pd.DataFrame({\"Total Count\":players_pergroup, \"Percentage Of Players\": percentage})\n",
    "age_demographics[\"Percentage Of Players\"]=age_demographics['Percentage Of Players'].map(\"{:,.2%}\".format)\n",
    "\n",
    "# Printing DataFrame\n",
    "age_demographics"
   ]
  },
  {
   "cell_type": "markdown",
   "metadata": {},
   "source": [
    "## Purchasing Analysis (Age)"
   ]
  },
  {
   "cell_type": "markdown",
   "metadata": {},
   "source": [
    "* Binning the data by age\n",
    "\n",
    "* Displaying a summary table with purchase count, avg. purchase price, avg. purchase total per person etc. in the table below"
   ]
  },
  {
   "cell_type": "code",
   "execution_count": 21,
   "metadata": {},
   "outputs": [
    {
     "data": {
      "text/html": [
       "<div>\n",
       "<style scoped>\n",
       "    .dataframe tbody tr th:only-of-type {\n",
       "        vertical-align: middle;\n",
       "    }\n",
       "\n",
       "    .dataframe tbody tr th {\n",
       "        vertical-align: top;\n",
       "    }\n",
       "\n",
       "    .dataframe thead th {\n",
       "        text-align: right;\n",
       "    }\n",
       "</style>\n",
       "<table border=\"1\" class=\"dataframe\">\n",
       "  <thead>\n",
       "    <tr style=\"text-align: right;\">\n",
       "      <th></th>\n",
       "      <th>Purchase ID</th>\n",
       "      <th>SN</th>\n",
       "      <th>Price</th>\n",
       "      <th>Age</th>\n",
       "    </tr>\n",
       "  </thead>\n",
       "  <tbody>\n",
       "    <tr>\n",
       "      <th>0</th>\n",
       "      <td>0</td>\n",
       "      <td>Lisim78</td>\n",
       "      <td>3.53</td>\n",
       "      <td>20</td>\n",
       "    </tr>\n",
       "    <tr>\n",
       "      <th>1</th>\n",
       "      <td>1</td>\n",
       "      <td>Lisovynya38</td>\n",
       "      <td>1.56</td>\n",
       "      <td>40</td>\n",
       "    </tr>\n",
       "    <tr>\n",
       "      <th>2</th>\n",
       "      <td>2</td>\n",
       "      <td>Ithergue48</td>\n",
       "      <td>4.88</td>\n",
       "      <td>24</td>\n",
       "    </tr>\n",
       "    <tr>\n",
       "      <th>3</th>\n",
       "      <td>3</td>\n",
       "      <td>Chamassasya86</td>\n",
       "      <td>3.27</td>\n",
       "      <td>24</td>\n",
       "    </tr>\n",
       "    <tr>\n",
       "      <th>4</th>\n",
       "      <td>4</td>\n",
       "      <td>Iskosia90</td>\n",
       "      <td>1.44</td>\n",
       "      <td>23</td>\n",
       "    </tr>\n",
       "  </tbody>\n",
       "</table>\n",
       "</div>"
      ],
      "text/plain": [
       "   Purchase ID             SN  Price  Age\n",
       "0            0        Lisim78   3.53   20\n",
       "1            1    Lisovynya38   1.56   40\n",
       "2            2     Ithergue48   4.88   24\n",
       "3            3  Chamassasya86   3.27   24\n",
       "4            4      Iskosia90   1.44   23"
      ]
     },
     "execution_count": 21,
     "metadata": {},
     "output_type": "execute_result"
    }
   ],
   "source": [
    "# New DataFrame to work with\n",
    "perperson_df= purchases_file_df.loc[:, [\"Purchase ID\",\"SN\", \"Price\", \"Age\"]]\n",
    "perperson_df=perperson_df.drop_duplicates()\n",
    "\n",
    "# Printing new Dataframe\n",
    "perperson_df.head(5)"
   ]
  },
  {
   "cell_type": "code",
   "execution_count": 22,
   "metadata": {},
   "outputs": [
    {
     "data": {
      "text/html": [
       "<div>\n",
       "<style scoped>\n",
       "    .dataframe tbody tr th:only-of-type {\n",
       "        vertical-align: middle;\n",
       "    }\n",
       "\n",
       "    .dataframe tbody tr th {\n",
       "        vertical-align: top;\n",
       "    }\n",
       "\n",
       "    .dataframe thead th {\n",
       "        text-align: right;\n",
       "    }\n",
       "</style>\n",
       "<table border=\"1\" class=\"dataframe\">\n",
       "  <thead>\n",
       "    <tr style=\"text-align: right;\">\n",
       "      <th></th>\n",
       "      <th>Purchase ID</th>\n",
       "      <th>SN</th>\n",
       "      <th>Price</th>\n",
       "      <th>Age</th>\n",
       "      <th>Purchasing Analysis Per Group of Users (Age)</th>\n",
       "    </tr>\n",
       "  </thead>\n",
       "  <tbody>\n",
       "    <tr>\n",
       "      <th>0</th>\n",
       "      <td>0</td>\n",
       "      <td>Lisim78</td>\n",
       "      <td>3.53</td>\n",
       "      <td>20</td>\n",
       "      <td>Ages from 15-20</td>\n",
       "    </tr>\n",
       "    <tr>\n",
       "      <th>1</th>\n",
       "      <td>1</td>\n",
       "      <td>Lisovynya38</td>\n",
       "      <td>1.56</td>\n",
       "      <td>40</td>\n",
       "      <td>Ages from 35-40</td>\n",
       "    </tr>\n",
       "    <tr>\n",
       "      <th>2</th>\n",
       "      <td>2</td>\n",
       "      <td>Ithergue48</td>\n",
       "      <td>4.88</td>\n",
       "      <td>24</td>\n",
       "      <td>Ages from 20-25</td>\n",
       "    </tr>\n",
       "    <tr>\n",
       "      <th>3</th>\n",
       "      <td>3</td>\n",
       "      <td>Chamassasya86</td>\n",
       "      <td>3.27</td>\n",
       "      <td>24</td>\n",
       "      <td>Ages from 20-25</td>\n",
       "    </tr>\n",
       "    <tr>\n",
       "      <th>4</th>\n",
       "      <td>4</td>\n",
       "      <td>Iskosia90</td>\n",
       "      <td>1.44</td>\n",
       "      <td>23</td>\n",
       "      <td>Ages from 20-25</td>\n",
       "    </tr>\n",
       "    <tr>\n",
       "      <th>...</th>\n",
       "      <td>...</td>\n",
       "      <td>...</td>\n",
       "      <td>...</td>\n",
       "      <td>...</td>\n",
       "      <td>...</td>\n",
       "    </tr>\n",
       "    <tr>\n",
       "      <th>775</th>\n",
       "      <td>775</td>\n",
       "      <td>Aethedru70</td>\n",
       "      <td>3.54</td>\n",
       "      <td>21</td>\n",
       "      <td>Ages from 20-25</td>\n",
       "    </tr>\n",
       "    <tr>\n",
       "      <th>776</th>\n",
       "      <td>776</td>\n",
       "      <td>Iral74</td>\n",
       "      <td>1.63</td>\n",
       "      <td>21</td>\n",
       "      <td>Ages from 20-25</td>\n",
       "    </tr>\n",
       "    <tr>\n",
       "      <th>777</th>\n",
       "      <td>777</td>\n",
       "      <td>Yathecal72</td>\n",
       "      <td>3.46</td>\n",
       "      <td>20</td>\n",
       "      <td>Ages from 15-20</td>\n",
       "    </tr>\n",
       "    <tr>\n",
       "      <th>778</th>\n",
       "      <td>778</td>\n",
       "      <td>Sisur91</td>\n",
       "      <td>4.19</td>\n",
       "      <td>7</td>\n",
       "      <td>Ages from 5-10</td>\n",
       "    </tr>\n",
       "    <tr>\n",
       "      <th>779</th>\n",
       "      <td>779</td>\n",
       "      <td>Ennrian78</td>\n",
       "      <td>4.60</td>\n",
       "      <td>24</td>\n",
       "      <td>Ages from 20-25</td>\n",
       "    </tr>\n",
       "  </tbody>\n",
       "</table>\n",
       "<p>780 rows × 5 columns</p>\n",
       "</div>"
      ],
      "text/plain": [
       "     Purchase ID             SN  Price  Age  \\\n",
       "0              0        Lisim78   3.53   20   \n",
       "1              1    Lisovynya38   1.56   40   \n",
       "2              2     Ithergue48   4.88   24   \n",
       "3              3  Chamassasya86   3.27   24   \n",
       "4              4      Iskosia90   1.44   23   \n",
       "..           ...            ...    ...  ...   \n",
       "775          775     Aethedru70   3.54   21   \n",
       "776          776         Iral74   1.63   21   \n",
       "777          777     Yathecal72   3.46   20   \n",
       "778          778        Sisur91   4.19    7   \n",
       "779          779      Ennrian78   4.60   24   \n",
       "\n",
       "    Purchasing Analysis Per Group of Users (Age)  \n",
       "0                                Ages from 15-20  \n",
       "1                                Ages from 35-40  \n",
       "2                                Ages from 20-25  \n",
       "3                                Ages from 20-25  \n",
       "4                                Ages from 20-25  \n",
       "..                                           ...  \n",
       "775                              Ages from 20-25  \n",
       "776                              Ages from 20-25  \n",
       "777                              Ages from 15-20  \n",
       "778                               Ages from 5-10  \n",
       "779                              Ages from 20-25  \n",
       "\n",
       "[780 rows x 5 columns]"
      ]
     },
     "execution_count": 22,
     "metadata": {},
     "output_type": "execute_result"
    }
   ],
   "source": [
    "# Binning Ages\n",
    "bins=[5,10,15,20,25,30,35,40,45]\n",
    "\n",
    "# Labeling\n",
    "bin_labels=[\"Ages from 5-10\",\"Ages from 10-15\",\\\n",
    "            \"Ages from 15-20\",\"Ages from 20-25\",\"Ages from 25-30\",\\\n",
    "            \"Ages from 30-35\",\"Ages from 35-40\",\"Ages from 40-45\"]\n",
    "\n",
    "perperson_df[\"Purchasing Analysis Per Group of Users (Age)\"]=pd.cut(perperson_df[\"Age\"], bins, labels=bin_labels, include_lowest=True)\n",
    "\n",
    "# Printing DataFrame\n",
    "perperson_df"
   ]
  },
  {
   "cell_type": "code",
   "execution_count": 23,
   "metadata": {},
   "outputs": [
    {
     "data": {
      "text/plain": [
       "Purchasing Analysis Per Group of Users (Age)\n",
       "Ages from 5-10      32\n",
       "Ages from 10-15     54\n",
       "Ages from 15-20    200\n",
       "Ages from 20-25    325\n",
       "Ages from 25-30     77\n",
       "Ages from 30-35     52\n",
       "Ages from 35-40     33\n",
       "Ages from 40-45      7\n",
       "Name: Price, dtype: int64"
      ]
     },
     "execution_count": 23,
     "metadata": {},
     "output_type": "execute_result"
    }
   ],
   "source": [
    "# Purchase Count\n",
    "pergroup_count=perperson_df.groupby([\"Purchasing Analysis Per Group of Users (Age)\"]).count()[\"Price\"]\n",
    "pergroup_count"
   ]
  },
  {
   "cell_type": "code",
   "execution_count": 24,
   "metadata": {},
   "outputs": [
    {
     "data": {
      "text/plain": [
       "Purchasing Analysis Per Group of Users (Age)\n",
       "Ages from 5-10     3.405000\n",
       "Ages from 10-15    2.900000\n",
       "Ages from 15-20    3.107800\n",
       "Ages from 20-25    3.020431\n",
       "Ages from 25-30    2.875584\n",
       "Ages from 30-35    2.994423\n",
       "Ages from 35-40    3.404545\n",
       "Ages from 40-45    3.075714\n",
       "Name: Price, dtype: float64"
      ]
     },
     "execution_count": 24,
     "metadata": {},
     "output_type": "execute_result"
    }
   ],
   "source": [
    "# Average Purchase Price\n",
    "pergroup_avg=perperson_df.groupby([\"Purchasing Analysis Per Group of Users (Age)\"]).mean()[\"Price\"]\n",
    "pergroup_avg"
   ]
  },
  {
   "cell_type": "code",
   "execution_count": 25,
   "metadata": {},
   "outputs": [
    {
     "data": {
      "text/plain": [
       "Purchasing Analysis Per Group of Users (Age)\n",
       "Ages from 5-10     108.96\n",
       "Ages from 10-15    156.60\n",
       "Ages from 15-20    621.56\n",
       "Ages from 20-25    981.64\n",
       "Ages from 25-30    221.42\n",
       "Ages from 30-35    155.71\n",
       "Ages from 35-40    112.35\n",
       "Ages from 40-45     21.53\n",
       "Name: Price, dtype: float64"
      ]
     },
     "execution_count": 25,
     "metadata": {},
     "output_type": "execute_result"
    }
   ],
   "source": [
    "# Purchase Total Per Group\n",
    "pergroup_sum=(perperson_df.groupby([\"Purchasing Analysis Per Group of Users (Age)\"]).sum()[\"Price\"])\n",
    "pergroup_sum"
   ]
  },
  {
   "cell_type": "code",
   "execution_count": 26,
   "metadata": {},
   "outputs": [
    {
     "data": {
      "text/plain": [
       "Ages from 5-10     4.540000\n",
       "Ages from 10-15    3.819512\n",
       "Ages from 15-20    4.143733\n",
       "Ages from 20-25    4.231207\n",
       "Ages from 25-30    3.752881\n",
       "Ages from 30-35    4.208378\n",
       "Ages from 35-40    4.321154\n",
       "Ages from 40-45    3.075714\n",
       "dtype: float64"
      ]
     },
     "execution_count": 26,
     "metadata": {},
     "output_type": "execute_result"
    }
   ],
   "source": [
    "# Average Purchase Total Per Person\n",
    "normalized_total = pergroup_sum / age_demographics[\"Total Count\"]\n",
    "normalized_total"
   ]
  },
  {
   "cell_type": "code",
   "execution_count": 27,
   "metadata": {},
   "outputs": [
    {
     "data": {
      "text/html": [
       "<div>\n",
       "<style scoped>\n",
       "    .dataframe tbody tr th:only-of-type {\n",
       "        vertical-align: middle;\n",
       "    }\n",
       "\n",
       "    .dataframe tbody tr th {\n",
       "        vertical-align: top;\n",
       "    }\n",
       "\n",
       "    .dataframe thead th {\n",
       "        text-align: right;\n",
       "    }\n",
       "</style>\n",
       "<table border=\"1\" class=\"dataframe\">\n",
       "  <thead>\n",
       "    <tr style=\"text-align: right;\">\n",
       "      <th></th>\n",
       "      <th>Count of User Names by Age Range</th>\n",
       "      <th>Total Purchased Per Age Group</th>\n",
       "      <th>Average Purchase Price by Age Range</th>\n",
       "      <th>Avg Total Purchase per Person</th>\n",
       "    </tr>\n",
       "  </thead>\n",
       "  <tbody>\n",
       "    <tr>\n",
       "      <th>Ages from 5-10</th>\n",
       "      <td>32</td>\n",
       "      <td>$108.96</td>\n",
       "      <td>$3.40</td>\n",
       "      <td>$4.54</td>\n",
       "    </tr>\n",
       "    <tr>\n",
       "      <th>Ages from 10-15</th>\n",
       "      <td>54</td>\n",
       "      <td>$156.60</td>\n",
       "      <td>$2.90</td>\n",
       "      <td>$3.82</td>\n",
       "    </tr>\n",
       "    <tr>\n",
       "      <th>Ages from 15-20</th>\n",
       "      <td>200</td>\n",
       "      <td>$621.56</td>\n",
       "      <td>$3.11</td>\n",
       "      <td>$4.14</td>\n",
       "    </tr>\n",
       "    <tr>\n",
       "      <th>Ages from 20-25</th>\n",
       "      <td>325</td>\n",
       "      <td>$981.64</td>\n",
       "      <td>$3.02</td>\n",
       "      <td>$4.23</td>\n",
       "    </tr>\n",
       "    <tr>\n",
       "      <th>Ages from 25-30</th>\n",
       "      <td>77</td>\n",
       "      <td>$221.42</td>\n",
       "      <td>$2.88</td>\n",
       "      <td>$3.75</td>\n",
       "    </tr>\n",
       "    <tr>\n",
       "      <th>Ages from 30-35</th>\n",
       "      <td>52</td>\n",
       "      <td>$155.71</td>\n",
       "      <td>$2.99</td>\n",
       "      <td>$4.21</td>\n",
       "    </tr>\n",
       "    <tr>\n",
       "      <th>Ages from 35-40</th>\n",
       "      <td>33</td>\n",
       "      <td>$112.35</td>\n",
       "      <td>$3.40</td>\n",
       "      <td>$4.32</td>\n",
       "    </tr>\n",
       "    <tr>\n",
       "      <th>Ages from 40-45</th>\n",
       "      <td>7</td>\n",
       "      <td>$21.53</td>\n",
       "      <td>$3.08</td>\n",
       "      <td>$3.08</td>\n",
       "    </tr>\n",
       "  </tbody>\n",
       "</table>\n",
       "</div>"
      ],
      "text/plain": [
       "                 Count of User Names by Age Range  \\\n",
       "Ages from 5-10                                 32   \n",
       "Ages from 10-15                                54   \n",
       "Ages from 15-20                               200   \n",
       "Ages from 20-25                               325   \n",
       "Ages from 25-30                                77   \n",
       "Ages from 30-35                                52   \n",
       "Ages from 35-40                                33   \n",
       "Ages from 40-45                                 7   \n",
       "\n",
       "                Total Purchased Per Age Group  \\\n",
       "Ages from 5-10                        $108.96   \n",
       "Ages from 10-15                       $156.60   \n",
       "Ages from 15-20                       $621.56   \n",
       "Ages from 20-25                       $981.64   \n",
       "Ages from 25-30                       $221.42   \n",
       "Ages from 30-35                       $155.71   \n",
       "Ages from 35-40                       $112.35   \n",
       "Ages from 40-45                        $21.53   \n",
       "\n",
       "                Average Purchase Price by Age Range  \\\n",
       "Ages from 5-10                                $3.40   \n",
       "Ages from 10-15                               $2.90   \n",
       "Ages from 15-20                               $3.11   \n",
       "Ages from 20-25                               $3.02   \n",
       "Ages from 25-30                               $2.88   \n",
       "Ages from 30-35                               $2.99   \n",
       "Ages from 35-40                               $3.40   \n",
       "Ages from 40-45                               $3.08   \n",
       "\n",
       "                Avg Total Purchase per Person  \n",
       "Ages from 5-10                          $4.54  \n",
       "Ages from 10-15                         $3.82  \n",
       "Ages from 15-20                         $4.14  \n",
       "Ages from 20-25                         $4.23  \n",
       "Ages from 25-30                         $3.75  \n",
       "Ages from 30-35                         $4.21  \n",
       "Ages from 35-40                         $4.32  \n",
       "Ages from 40-45                         $3.08  "
      ]
     },
     "execution_count": 27,
     "metadata": {},
     "output_type": "execute_result"
    }
   ],
   "source": [
    "# Displaying Final DataFrame with results\n",
    "final_purchase_analysis_age_df=pd.DataFrame({\"Count of User Names by Age Range\": pergroup_count,\\\n",
    "                                            \"Total Purchased Per Age Group\": pergroup_sum,\\\n",
    "                                            \"Average Purchase Price by Age Range\": pergroup_avg,\\\n",
    "                                            \"Avg Total Purchase per Person\":normalized_total})\n",
    "\n",
    "# Formatting Values\n",
    "final_purchase_analysis_age_df[\"Total Purchased Per Age Group\"]=final_purchase_analysis_age_df[\"Total Purchased Per Age Group\"].map(\"${:,.2f}\".format)\n",
    "final_purchase_analysis_age_df[\"Average Purchase Price by Age Range\"]=final_purchase_analysis_age_df[\"Average Purchase Price by Age Range\"].map(\"${:,.2f}\".format)\n",
    "final_purchase_analysis_age_df[\"Avg Total Purchase per Person\"] = final_purchase_analysis_age_df[\"Avg Total Purchase per Person\"].map(\"${:,.2f}\".format)\n",
    "\n",
    "\n",
    "\n",
    "# Printing DataFrame\n",
    "final_purchase_analysis_age_df"
   ]
  },
  {
   "cell_type": "markdown",
   "metadata": {},
   "source": [
    "## Top Spenders"
   ]
  },
  {
   "cell_type": "markdown",
   "metadata": {},
   "source": [
    "* Running calculations and displaying a summary table with results for the Top Spenders\n",
    "\n",
    "* Sorting in descending order"
   ]
  },
  {
   "cell_type": "code",
   "execution_count": 28,
   "metadata": {},
   "outputs": [
    {
     "data": {
      "text/html": [
       "<div>\n",
       "<style scoped>\n",
       "    .dataframe tbody tr th:only-of-type {\n",
       "        vertical-align: middle;\n",
       "    }\n",
       "\n",
       "    .dataframe tbody tr th {\n",
       "        vertical-align: top;\n",
       "    }\n",
       "\n",
       "    .dataframe thead th {\n",
       "        text-align: right;\n",
       "    }\n",
       "</style>\n",
       "<table border=\"1\" class=\"dataframe\">\n",
       "  <thead>\n",
       "    <tr style=\"text-align: right;\">\n",
       "      <th></th>\n",
       "      <th>Purchase Count</th>\n",
       "      <th>Average Purchase Price</th>\n",
       "      <th>Total Purchase Value</th>\n",
       "    </tr>\n",
       "    <tr>\n",
       "      <th>SN</th>\n",
       "      <th></th>\n",
       "      <th></th>\n",
       "      <th></th>\n",
       "    </tr>\n",
       "  </thead>\n",
       "  <tbody>\n",
       "    <tr>\n",
       "      <th>Lisosia93</th>\n",
       "      <td>5</td>\n",
       "      <td>$3.79</td>\n",
       "      <td>$18.96</td>\n",
       "    </tr>\n",
       "    <tr>\n",
       "      <th>Idastidru52</th>\n",
       "      <td>4</td>\n",
       "      <td>$3.86</td>\n",
       "      <td>$15.45</td>\n",
       "    </tr>\n",
       "    <tr>\n",
       "      <th>Chamjask73</th>\n",
       "      <td>3</td>\n",
       "      <td>$4.61</td>\n",
       "      <td>$13.83</td>\n",
       "    </tr>\n",
       "    <tr>\n",
       "      <th>Iral74</th>\n",
       "      <td>4</td>\n",
       "      <td>$3.40</td>\n",
       "      <td>$13.62</td>\n",
       "    </tr>\n",
       "    <tr>\n",
       "      <th>Iskadarya95</th>\n",
       "      <td>3</td>\n",
       "      <td>$4.37</td>\n",
       "      <td>$13.10</td>\n",
       "    </tr>\n",
       "  </tbody>\n",
       "</table>\n",
       "</div>"
      ],
      "text/plain": [
       "             Purchase Count Average Purchase Price Total Purchase Value\n",
       "SN                                                                     \n",
       "Lisosia93                 5                  $3.79               $18.96\n",
       "Idastidru52               4                  $3.86               $15.45\n",
       "Chamjask73                3                  $4.61               $13.83\n",
       "Iral74                    4                  $3.40               $13.62\n",
       "Iskadarya95               3                  $4.37               $13.10"
      ]
     },
     "execution_count": 28,
     "metadata": {},
     "output_type": "execute_result"
    }
   ],
   "source": [
    "# Identify the Top 5 Spenders in the Game by Total Purchase Value & GroupBy \"SN\"\n",
    "top_spenders = purchases_file_df.groupby(\"SN\")\n",
    "\n",
    "# Calculate \"Purchase Count\"\n",
    "spender_purchase_count = top_spenders[\"Purchase ID\"].count()\n",
    "\n",
    "# Calculate \"Average Purchase Price\"\n",
    "average_spender_purchase_price = round(top_spenders[\"Price\"].mean(),2)\n",
    "\n",
    "# Calculate \"Total Purchase Value\"\n",
    "total_spender_purchase_value = top_spenders[\"Price\"].sum()\n",
    "\n",
    "# Create Summary DataFrame\n",
    "top_spenders_table = pd.DataFrame({ \n",
    "    \"Purchase Count\": spender_purchase_count,\n",
    "    \"Average Purchase Price\": average_spender_purchase_price,\n",
    "    \"Total Purchase Value\": total_spender_purchase_value\n",
    "})\n",
    "\n",
    "sort_top_spenders = top_spenders_table.sort_values([\"Total Purchase Value\"], ascending=False).head()\n",
    "sort_top_spenders[\"Average Purchase Price\"] = sort_top_spenders[\"Average Purchase Price\"].astype(float).map(\"${:,.2f}\".format)\n",
    "sort_top_spenders[\"Total Purchase Value\"] = sort_top_spenders[\"Total Purchase Value\"].astype(float).map(\"${:,.2f}\".format)\n",
    "sort_top_spenders"
   ]
  },
  {
   "cell_type": "markdown",
   "metadata": {},
   "source": [
    "## Most Popular Items"
   ]
  },
  {
   "cell_type": "markdown",
   "metadata": {},
   "source": [
    "* Retrieving the Item ID, Item Name, and Item Price columns\n",
    "\n",
    "\n",
    "* Performing calculations to obtain purchase count, average item price, and total purchase value\n",
    "\n",
    "\n",
    "* Printing results in a DataFrame"
   ]
  },
  {
   "cell_type": "code",
   "execution_count": 29,
   "metadata": {},
   "outputs": [
    {
     "data": {
      "text/html": [
       "<div>\n",
       "<style scoped>\n",
       "    .dataframe tbody tr th:only-of-type {\n",
       "        vertical-align: middle;\n",
       "    }\n",
       "\n",
       "    .dataframe tbody tr th {\n",
       "        vertical-align: top;\n",
       "    }\n",
       "\n",
       "    .dataframe thead th {\n",
       "        text-align: right;\n",
       "    }\n",
       "</style>\n",
       "<table border=\"1\" class=\"dataframe\">\n",
       "  <thead>\n",
       "    <tr style=\"text-align: right;\">\n",
       "      <th></th>\n",
       "      <th></th>\n",
       "      <th>Purchase Count</th>\n",
       "      <th>Item Price</th>\n",
       "      <th>Total Purchase Value</th>\n",
       "    </tr>\n",
       "    <tr>\n",
       "      <th>Item ID</th>\n",
       "      <th>Item Name</th>\n",
       "      <th></th>\n",
       "      <th></th>\n",
       "      <th></th>\n",
       "    </tr>\n",
       "  </thead>\n",
       "  <tbody>\n",
       "    <tr>\n",
       "      <th>92</th>\n",
       "      <th>Final Critic</th>\n",
       "      <td>13</td>\n",
       "      <td>$4.61</td>\n",
       "      <td>$59.99</td>\n",
       "    </tr>\n",
       "    <tr>\n",
       "      <th>178</th>\n",
       "      <th>Oathbreaker, Last Hope of the Breaking Storm</th>\n",
       "      <td>12</td>\n",
       "      <td>$4.23</td>\n",
       "      <td>$50.76</td>\n",
       "    </tr>\n",
       "    <tr>\n",
       "      <th>145</th>\n",
       "      <th>Fiery Glass Crusader</th>\n",
       "      <td>9</td>\n",
       "      <td>$4.58</td>\n",
       "      <td>$41.22</td>\n",
       "    </tr>\n",
       "    <tr>\n",
       "      <th>132</th>\n",
       "      <th>Persuasion</th>\n",
       "      <td>9</td>\n",
       "      <td>$3.22</td>\n",
       "      <td>$28.99</td>\n",
       "    </tr>\n",
       "    <tr>\n",
       "      <th>108</th>\n",
       "      <th>Extraction, Quickblade Of Trembling Hands</th>\n",
       "      <td>9</td>\n",
       "      <td>$3.53</td>\n",
       "      <td>$31.77</td>\n",
       "    </tr>\n",
       "  </tbody>\n",
       "</table>\n",
       "</div>"
      ],
      "text/plain": [
       "                                                      Purchase Count  \\\n",
       "Item ID Item Name                                                      \n",
       "92      Final Critic                                              13   \n",
       "178     Oathbreaker, Last Hope of the Breaking Storm              12   \n",
       "145     Fiery Glass Crusader                                       9   \n",
       "132     Persuasion                                                 9   \n",
       "108     Extraction, Quickblade Of Trembling Hands                  9   \n",
       "\n",
       "                                                     Item Price  \\\n",
       "Item ID Item Name                                                 \n",
       "92      Final Critic                                      $4.61   \n",
       "178     Oathbreaker, Last Hope of the Breaking Storm      $4.23   \n",
       "145     Fiery Glass Crusader                              $4.58   \n",
       "132     Persuasion                                        $3.22   \n",
       "108     Extraction, Quickblade Of Trembling Hands         $3.53   \n",
       "\n",
       "                                                     Total Purchase Value  \n",
       "Item ID Item Name                                                          \n",
       "92      Final Critic                                               $59.99  \n",
       "178     Oathbreaker, Last Hope of the Breaking Storm               $50.76  \n",
       "145     Fiery Glass Crusader                                       $41.22  \n",
       "132     Persuasion                                                 $28.99  \n",
       "108     Extraction, Quickblade Of Trembling Hands                  $31.77  "
      ]
     },
     "execution_count": 29,
     "metadata": {},
     "output_type": "execute_result"
    }
   ],
   "source": [
    "# Indentifying the 5 Most Popular Items\n",
    "popular_items_list = purchases_file_df[[\"Item ID\", \"Item Name\", \"Price\"]]\n",
    "popular_items = popular_items_list.groupby([\"Item ID\",\"Item Name\"])\n",
    "\n",
    "# Purchase Count\n",
    "item_purchase_count = popular_items[\"Price\"].count()\n",
    "\n",
    "# Item Price\n",
    "item_price = popular_items[\"Price\"].sum()\n",
    "\n",
    "# Total Purchase Value\n",
    "item_purchase_value = item_price / item_purchase_count\n",
    "\n",
    "# Printing DataFrame\n",
    "most_popular_items = pd.DataFrame({\n",
    "    \"Purchase Count\": item_purchase_count, \n",
    "    \"Item Price\": item_purchase_value,\n",
    "    \"Total Purchase Value\": item_price\n",
    "})\n",
    "\n",
    "popular_items_formatted = most_popular_items.sort_values([\"Purchase Count\"], ascending=False).head()\n",
    "popular_items_formatted[\"Item Price\"] = popular_items_formatted[\"Item Price\"].astype(float).map(\"${:,.2f}\".format)\n",
    "popular_items_formatted[\"Total Purchase Value\"] = popular_items_formatted[\"Total Purchase Value\"].astype(float).map(\"${:,.2f}\".format)\n",
    "popular_items_formatted"
   ]
  },
  {
   "cell_type": "markdown",
   "metadata": {},
   "source": [
    "## Most Profitable Items"
   ]
  },
  {
   "cell_type": "markdown",
   "metadata": {},
   "source": [
    "* Sort the previous table and analysing prices\n"
   ]
  },
  {
   "cell_type": "code",
   "execution_count": 30,
   "metadata": {
    "scrolled": true
   },
   "outputs": [
    {
     "data": {
      "text/html": [
       "<div>\n",
       "<style scoped>\n",
       "    .dataframe tbody tr th:only-of-type {\n",
       "        vertical-align: middle;\n",
       "    }\n",
       "\n",
       "    .dataframe tbody tr th {\n",
       "        vertical-align: top;\n",
       "    }\n",
       "\n",
       "    .dataframe thead th {\n",
       "        text-align: right;\n",
       "    }\n",
       "</style>\n",
       "<table border=\"1\" class=\"dataframe\">\n",
       "  <thead>\n",
       "    <tr style=\"text-align: right;\">\n",
       "      <th></th>\n",
       "      <th></th>\n",
       "      <th>Purchase Count</th>\n",
       "      <th>Item Price</th>\n",
       "      <th>Total Purchase Value</th>\n",
       "    </tr>\n",
       "    <tr>\n",
       "      <th>Item ID</th>\n",
       "      <th>Item Name</th>\n",
       "      <th></th>\n",
       "      <th></th>\n",
       "      <th></th>\n",
       "    </tr>\n",
       "  </thead>\n",
       "  <tbody>\n",
       "    <tr>\n",
       "      <th>92</th>\n",
       "      <th>Final Critic</th>\n",
       "      <td>13</td>\n",
       "      <td>$4.61</td>\n",
       "      <td>$59.99</td>\n",
       "    </tr>\n",
       "    <tr>\n",
       "      <th>178</th>\n",
       "      <th>Oathbreaker, Last Hope of the Breaking Storm</th>\n",
       "      <td>12</td>\n",
       "      <td>$4.23</td>\n",
       "      <td>$50.76</td>\n",
       "    </tr>\n",
       "    <tr>\n",
       "      <th>82</th>\n",
       "      <th>Nirvana</th>\n",
       "      <td>9</td>\n",
       "      <td>$4.90</td>\n",
       "      <td>$44.10</td>\n",
       "    </tr>\n",
       "    <tr>\n",
       "      <th>145</th>\n",
       "      <th>Fiery Glass Crusader</th>\n",
       "      <td>9</td>\n",
       "      <td>$4.58</td>\n",
       "      <td>$41.22</td>\n",
       "    </tr>\n",
       "    <tr>\n",
       "      <th>103</th>\n",
       "      <th>Singed Scalpel</th>\n",
       "      <td>8</td>\n",
       "      <td>$4.35</td>\n",
       "      <td>$34.80</td>\n",
       "    </tr>\n",
       "  </tbody>\n",
       "</table>\n",
       "</div>"
      ],
      "text/plain": [
       "                                                      Purchase Count  \\\n",
       "Item ID Item Name                                                      \n",
       "92      Final Critic                                              13   \n",
       "178     Oathbreaker, Last Hope of the Breaking Storm              12   \n",
       "82      Nirvana                                                    9   \n",
       "145     Fiery Glass Crusader                                       9   \n",
       "103     Singed Scalpel                                             8   \n",
       "\n",
       "                                                     Item Price  \\\n",
       "Item ID Item Name                                                 \n",
       "92      Final Critic                                      $4.61   \n",
       "178     Oathbreaker, Last Hope of the Breaking Storm      $4.23   \n",
       "82      Nirvana                                           $4.90   \n",
       "145     Fiery Glass Crusader                              $4.58   \n",
       "103     Singed Scalpel                                    $4.35   \n",
       "\n",
       "                                                     Total Purchase Value  \n",
       "Item ID Item Name                                                          \n",
       "92      Final Critic                                               $59.99  \n",
       "178     Oathbreaker, Last Hope of the Breaking Storm               $50.76  \n",
       "82      Nirvana                                                    $44.10  \n",
       "145     Fiery Glass Crusader                                       $41.22  \n",
       "103     Singed Scalpel                                             $34.80  "
      ]
     },
     "execution_count": 30,
     "metadata": {},
     "output_type": "execute_result"
    }
   ],
   "source": [
    "popular_items_formatted = most_popular_items.sort_values([\"Total Purchase Value\"], ascending=False).head()\n",
    "popular_items_formatted[\"Item Price\"] = popular_items_formatted[\"Item Price\"].astype(float).map(\"${:,.2f}\".format)\n",
    "popular_items_formatted[\"Total Purchase Value\"] = popular_items_formatted[\"Total Purchase Value\"].astype(float).map(\"${:,.2f}\".format)\n",
    "popular_items_formatted"
   ]
  }
 ],
 "metadata": {
  "anaconda-cloud": {},
  "kernel_info": {
   "name": "python3"
  },
  "kernelspec": {
   "display_name": "Python 3",
   "language": "python",
   "name": "python3"
  },
  "language_info": {
   "codemirror_mode": {
    "name": "ipython",
    "version": 3
   },
   "file_extension": ".py",
   "mimetype": "text/x-python",
   "name": "python",
   "nbconvert_exporter": "python",
   "pygments_lexer": "ipython3",
   "version": "3.8.5"
  },
  "latex_envs": {
   "LaTeX_envs_menu_present": true,
   "autoclose": false,
   "autocomplete": true,
   "bibliofile": "biblio.bib",
   "cite_by": "apalike",
   "current_citInitial": 1,
   "eqLabelWithNumbers": true,
   "eqNumInitial": 1,
   "hotkeys": {
    "equation": "Ctrl-E",
    "itemize": "Ctrl-I"
   },
   "labels_anchors": false,
   "latex_user_defs": false,
   "report_style_numbering": false,
   "user_envs_cfg": false
  },
  "nteract": {
   "version": "0.2.0"
  }
 },
 "nbformat": 4,
 "nbformat_minor": 2
}
