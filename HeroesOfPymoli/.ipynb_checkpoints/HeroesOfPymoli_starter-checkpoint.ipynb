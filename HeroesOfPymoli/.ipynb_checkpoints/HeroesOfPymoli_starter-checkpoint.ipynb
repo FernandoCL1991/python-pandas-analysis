{
 "cells": [
  {
   "cell_type": "markdown",
   "metadata": {},
   "source": [
    "### Note\n",
    "* Instructions have been included for each segment. You do not have to follow them exactly, but they are included to help you think through the steps."
   ]
  },
  {
   "cell_type": "code",
   "execution_count": 1,
   "metadata": {},
   "outputs": [],
   "source": [
    "# Importing Dependencies\n",
    "import pandas as pd\n",
    "import csv\n",
    "import matplotlib as plt\n",
    "import numpy as np"
   ]
  },
  {
   "cell_type": "code",
   "execution_count": 2,
   "metadata": {},
   "outputs": [],
   "source": [
    "# Loading file\n",
    "purchases_file = \"Resources/purchase_data.csv\"\n",
    "# Reading file\n",
    "purchases_file_df = pd.read_csv(purchases_file)"
   ]
  },
  {
   "cell_type": "code",
   "execution_count": 3,
   "metadata": {
    "scrolled": true
   },
   "outputs": [
    {
     "data": {
      "text/html": [
       "<div>\n",
       "<style scoped>\n",
       "    .dataframe tbody tr th:only-of-type {\n",
       "        vertical-align: middle;\n",
       "    }\n",
       "\n",
       "    .dataframe tbody tr th {\n",
       "        vertical-align: top;\n",
       "    }\n",
       "\n",
       "    .dataframe thead th {\n",
       "        text-align: right;\n",
       "    }\n",
       "</style>\n",
       "<table border=\"1\" class=\"dataframe\">\n",
       "  <thead>\n",
       "    <tr style=\"text-align: right;\">\n",
       "      <th></th>\n",
       "      <th>Purchase ID</th>\n",
       "      <th>SN</th>\n",
       "      <th>Age</th>\n",
       "      <th>Gender</th>\n",
       "      <th>Item ID</th>\n",
       "      <th>Item Name</th>\n",
       "      <th>Price</th>\n",
       "    </tr>\n",
       "  </thead>\n",
       "  <tbody>\n",
       "    <tr>\n",
       "      <th>0</th>\n",
       "      <td>0</td>\n",
       "      <td>Lisim78</td>\n",
       "      <td>20</td>\n",
       "      <td>Male</td>\n",
       "      <td>108</td>\n",
       "      <td>Extraction, Quickblade Of Trembling Hands</td>\n",
       "      <td>3.53</td>\n",
       "    </tr>\n",
       "    <tr>\n",
       "      <th>1</th>\n",
       "      <td>1</td>\n",
       "      <td>Lisovynya38</td>\n",
       "      <td>40</td>\n",
       "      <td>Male</td>\n",
       "      <td>143</td>\n",
       "      <td>Frenzied Scimitar</td>\n",
       "      <td>1.56</td>\n",
       "    </tr>\n",
       "    <tr>\n",
       "      <th>2</th>\n",
       "      <td>2</td>\n",
       "      <td>Ithergue48</td>\n",
       "      <td>24</td>\n",
       "      <td>Male</td>\n",
       "      <td>92</td>\n",
       "      <td>Final Critic</td>\n",
       "      <td>4.88</td>\n",
       "    </tr>\n",
       "  </tbody>\n",
       "</table>\n",
       "</div>"
      ],
      "text/plain": [
       "   Purchase ID           SN  Age Gender  Item ID  \\\n",
       "0            0      Lisim78   20   Male      108   \n",
       "1            1  Lisovynya38   40   Male      143   \n",
       "2            2   Ithergue48   24   Male       92   \n",
       "\n",
       "                                   Item Name  Price  \n",
       "0  Extraction, Quickblade Of Trembling Hands   3.53  \n",
       "1                          Frenzied Scimitar   1.56  \n",
       "2                               Final Critic   4.88  "
      ]
     },
     "execution_count": 3,
     "metadata": {},
     "output_type": "execute_result"
    }
   ],
   "source": [
    "# Printing dataset\n",
    "purchases_file_df.head(3)"
   ]
  },
  {
   "cell_type": "code",
   "execution_count": 7,
   "metadata": {},
   "outputs": [
    {
     "data": {
      "text/html": [
       "<div>\n",
       "<style scoped>\n",
       "    .dataframe tbody tr th:only-of-type {\n",
       "        vertical-align: middle;\n",
       "    }\n",
       "\n",
       "    .dataframe tbody tr th {\n",
       "        vertical-align: top;\n",
       "    }\n",
       "\n",
       "    .dataframe thead th {\n",
       "        text-align: right;\n",
       "    }\n",
       "</style>\n",
       "<table border=\"1\" class=\"dataframe\">\n",
       "  <thead>\n",
       "    <tr style=\"text-align: right;\">\n",
       "      <th></th>\n",
       "      <th>SN</th>\n",
       "      <th>Age</th>\n",
       "      <th>Gender</th>\n",
       "    </tr>\n",
       "  </thead>\n",
       "  <tbody>\n",
       "    <tr>\n",
       "      <th>0</th>\n",
       "      <td>Lisim78</td>\n",
       "      <td>20</td>\n",
       "      <td>Male</td>\n",
       "    </tr>\n",
       "    <tr>\n",
       "      <th>1</th>\n",
       "      <td>Lisovynya38</td>\n",
       "      <td>40</td>\n",
       "      <td>Male</td>\n",
       "    </tr>\n",
       "    <tr>\n",
       "      <th>2</th>\n",
       "      <td>Ithergue48</td>\n",
       "      <td>24</td>\n",
       "      <td>Male</td>\n",
       "    </tr>\n",
       "  </tbody>\n",
       "</table>\n",
       "</div>"
      ],
      "text/plain": [
       "            SN  Age Gender\n",
       "0      Lisim78   20   Male\n",
       "1  Lisovynya38   40   Male\n",
       "2   Ithergue48   24   Male"
      ]
     },
     "execution_count": 7,
     "metadata": {},
     "output_type": "execute_result"
    }
   ],
   "source": [
    "# Selecting columns for the new dataframe\n",
    "player_demographics_df=purchases_file_df.loc[:,[\"SN\",\"Age\",\"Gender\"]]\n",
    "# Dropping duplicates\n",
    "player_demographics_df=player_demographics_df.drop_duplicates()\n",
    "player_demographics_df.head(3)"
   ]
  },
  {
   "cell_type": "markdown",
   "metadata": {},
   "source": [
    "## Player Count"
   ]
  },
  {
   "cell_type": "code",
   "execution_count": 10,
   "metadata": {},
   "outputs": [
    {
     "name": "stdout",
     "output_type": "stream",
     "text": [
      "Theres a total of 576 players.\n"
     ]
    }
   ],
   "source": [
    "# Total number of players\n",
    "total_players=player_demographics_df[\"SN\"].nunique()\n",
    "print(f\"There's a total of {total_players} players.\")"
   ]
  },
  {
   "cell_type": "markdown",
   "metadata": {},
   "source": [
    "## Purchasing Analysis (Total)"
   ]
  },
  {
   "cell_type": "markdown",
   "metadata": {},
   "source": [
    "* Number of Unique Items\n",
    "* Average Purchase Price\n",
    "* Total number of Purchases\n",
    "* Total Revenue"
   ]
  },
  {
   "cell_type": "code",
   "execution_count": 11,
   "metadata": {},
   "outputs": [
    {
     "name": "stdout",
     "output_type": "stream",
     "text": [
      "The Number of Unique Items is: 179.\n"
     ]
    }
   ],
   "source": [
    "# Number of Unique Items\n",
    "unique_items=len(purchases_file_df[\"Item Name\"].unique())\n",
    "print(f\"The Number of Unique Items is: {unique_items}.\")"
   ]
  },
  {
   "cell_type": "code",
   "execution_count": 12,
   "metadata": {},
   "outputs": [
    {
     "name": "stdout",
     "output_type": "stream",
     "text": [
      "The Average Purchase Price is: $3.05\n"
     ]
    }
   ],
   "source": [
    "# Average Purchase Price\n",
    "average_purchase=round(purchases_file_df[\"Price\"].mean(),2)\n",
    "print(f\"The Average Purchase Price is: ${average_purchase}\")"
   ]
  },
  {
   "cell_type": "code",
   "execution_count": 13,
   "metadata": {},
   "outputs": [
    {
     "name": "stdout",
     "output_type": "stream",
     "text": [
      "The Total Number of Purchases is: 780.\n"
     ]
    }
   ],
   "source": [
    "# Total Number of Purchases\n",
    "total_purchases=len(purchases_file_df[\"Purchase ID\"])\n",
    "print(f\"The Total Number of Purchases is: {total_purchases}.\")"
   ]
  },
  {
   "cell_type": "code",
   "execution_count": 14,
   "metadata": {},
   "outputs": [
    {
     "name": "stdout",
     "output_type": "stream",
     "text": [
      "The Total Revenue is: $2379.77.\n"
     ]
    }
   ],
   "source": [
    "# Total Revenue\n",
    "total_revenue=purchases_file_df[\"Price\"].sum()\n",
    "print(f\"The Total Revenue is: ${total_revenue}.\")"
   ]
  },
  {
   "cell_type": "code",
   "execution_count": 15,
   "metadata": {},
   "outputs": [
    {
     "data": {
      "text/html": [
       "<div>\n",
       "<style scoped>\n",
       "    .dataframe tbody tr th:only-of-type {\n",
       "        vertical-align: middle;\n",
       "    }\n",
       "\n",
       "    .dataframe tbody tr th {\n",
       "        vertical-align: top;\n",
       "    }\n",
       "\n",
       "    .dataframe thead th {\n",
       "        text-align: right;\n",
       "    }\n",
       "</style>\n",
       "<table border=\"1\" class=\"dataframe\">\n",
       "  <thead>\n",
       "    <tr style=\"text-align: right;\">\n",
       "      <th></th>\n",
       "      <th>Number of Unique Items</th>\n",
       "      <th>Average Purchase Price</th>\n",
       "      <th>Total Number of Purchases</th>\n",
       "      <th>Total Revenue ($)</th>\n",
       "    </tr>\n",
       "  </thead>\n",
       "  <tbody>\n",
       "    <tr>\n",
       "      <th>0</th>\n",
       "      <td>179</td>\n",
       "      <td>3.05</td>\n",
       "      <td>780</td>\n",
       "      <td>2379.77</td>\n",
       "    </tr>\n",
       "  </tbody>\n",
       "</table>\n",
       "</div>"
      ],
      "text/plain": [
       "   Number of Unique Items  Average Purchase Price  Total Number of Purchases  \\\n",
       "0                     179                    3.05                        780   \n",
       "\n",
       "   Total Revenue ($)  \n",
       "0            2379.77  "
      ]
     },
     "execution_count": 15,
     "metadata": {},
     "output_type": "execute_result"
    }
   ],
   "source": [
    "# Creating Summary DataFrame\n",
    "summary_df=pd.DataFrame({\n",
    "    \"Number of Unique Items\": [unique_items],\n",
    "    \"Average Purchase Price\": [average_purchase],\n",
    "    \"Total Number of Purchases\": [total_purchases],\n",
    "    \"Total Revenue ($)\": [total_revenue]\n",
    "})\n",
    "\n",
    "# Printing DataFrame\n",
    "summary_df"
   ]
  },
  {
   "cell_type": "markdown",
   "metadata": {},
   "source": [
    "## Gender Demographics"
   ]
  },
  {
   "cell_type": "markdown",
   "metadata": {},
   "source": [
    "* Percentage and Count of Male Players\n",
    "\n",
    "\n",
    "* Percentage and Count of Female Players\n",
    "\n",
    "\n",
    "* Percentage and Count of Other / Non-Disclosed\n",
    "\n",
    "\n"
   ]
  },
  {
   "cell_type": "code",
   "execution_count": null,
   "metadata": {},
   "outputs": [],
   "source": [
    "# Creating a new df, droping all duplicates from \"SN\" to work with, using subset function.\n",
    "\n",
    "drop_sn_df =purchases_file_df.drop_duplicates(subset=[\"SN\"])\n",
    "\n",
    "# Total, unique SN's.\n",
    "total_sn = drop_sn_df.shape[0]\n",
    "total_sn"
   ]
  },
  {
   "cell_type": "code",
   "execution_count": null,
   "metadata": {},
   "outputs": [],
   "source": [
    "drop_sn_df=drop_sn_df.groupby([\"Gender\"]).count()\n",
    "drop_sn_df"
   ]
  },
  {
   "cell_type": "code",
   "execution_count": null,
   "metadata": {},
   "outputs": [],
   "source": [
    "female = drop_sn_df.loc['Female', \"SN\"]\n",
    "male =  drop_sn_df.loc['Male', \"SN\"]\n",
    "other =  drop_sn_df.loc['Other / Non-Disclosed', \"SN\"]"
   ]
  },
  {
   "cell_type": "code",
   "execution_count": null,
   "metadata": {},
   "outputs": [],
   "source": [
    "# Female\n",
    "female_perc = (female/total_sn)*100\n",
    "female_perc=round(female_perc,2)\n",
    "\n",
    "# Male\n",
    "male_perc =(male/total_sn)*100\n",
    "male_perc=round(male_perc,2)\n",
    "\n",
    "# Other / Non-Disclosed\n",
    "other_perc = (other/total_sn)*100\n",
    "other_perc=round(other_perc,2)\n"
   ]
  },
  {
   "cell_type": "code",
   "execution_count": null,
   "metadata": {},
   "outputs": [],
   "source": [
    "print(f\"The Percentage Count of Female Players is: {female_perc}%\")\n",
    "print(f\"The Percentage of Male Players is: {male_perc}%\")\n",
    "print(f\"The Percentage of Other / Non-Disclosed Players is: {other_perc}%\")"
   ]
  },
  {
   "cell_type": "markdown",
   "metadata": {},
   "source": [
    "\n",
    "## Purchasing Analysis (Gender)"
   ]
  },
  {
   "cell_type": "markdown",
   "metadata": {},
   "source": [
    "* Run basic calculations to obtain purchase count, avg. purchase price, avg. purchase total per person etc. by gender\n",
    "\n",
    "\n",
    "\n",
    "\n",
    "* Create a summary data frame to hold the results\n",
    "\n",
    "\n",
    "* Optional: give the displayed data cleaner formatting\n",
    "\n",
    "\n",
    "* Display the summary data frame"
   ]
  },
  {
   "cell_type": "code",
   "execution_count": null,
   "metadata": {},
   "outputs": [],
   "source": [
    "## Creating Variables\n",
    "\n",
    "# Total Purchase Count\n",
    "purchase_count=purchases_file_df.groupby([\"Gender\"]).count()[\"Price\"].rename(\"Total Purchase Value\")\n",
    "\n",
    "# Total Purchase Value\n",
    "purchase_value=purchases_file_df.groupby([\"Gender\"]).sum()[\"Price\"].rename(\"Total Purchase Value\")\n",
    "\n",
    "# Average Purchase Price\n",
    "avg_purchase_price=purchases_file_df.groupby([\"Gender\"]).mean()[\"Price\"].rename(\"Average Purchase Price\")\n",
    "\n",
    "# Average Purchase Total Per Person\n",
    "avg_purchase_total=purchase_value/total_sn\n",
    "\n",
    "## Creating a new DataFrame based on previous values.\n",
    "purchase_gender_df=pd.DataFrame({\"Total Purchase Count\": purchase_count, \\\n",
    "                                 \"Total Purchase Value\":purchase_value, \\\n",
    "                                 \"Average Purchase Price\":avg_purchase_price,\\\n",
    "                                 \"Average Purchase Total Per Person\":avg_purchase_total})\n",
    "\n",
    "## Formatting Values\n",
    "purchase_gender_df[\"Total Purchase Value\"]=purchase_gender_df[\"Total Purchase Value\"].map(\"${:,.2f}\".format)\n",
    "purchase_gender_df[\"Average Purchase Price\"]=purchase_gender_df[\"Average Purchase Price\"].map(\"${:,.2f}\".format)\n",
    "purchase_gender_df[\"Average Purchase Total Per Person\"]=purchase_gender_df[\"Average Purchase Total Per Person\"].map(\"${:,.2f}\".format)\n",
    "\n",
    "# Printing DataFrame\n",
    "purchase_gender_df\n"
   ]
  },
  {
   "cell_type": "markdown",
   "metadata": {},
   "source": [
    "## Age Demographics"
   ]
  },
  {
   "cell_type": "markdown",
   "metadata": {},
   "source": [
    "* Establish bins for ages\n",
    "\n",
    "\n",
    "* Categorize the existing players using the age bins. Hint: use pd.cut()\n",
    "\n",
    "\n",
    "* Calculate the numbers and percentages by age group\n",
    "\n",
    "\n",
    "* Create a summary data frame to hold the results\n",
    "\n",
    "\n",
    "* Optional: round the percentage column to two decimal points\n",
    "\n",
    "\n",
    "* Display Age Demographics Table\n"
   ]
  },
  {
   "cell_type": "code",
   "execution_count": null,
   "metadata": {},
   "outputs": [],
   "source": [
    "# Creating a new DF to work with\n",
    "\n",
    "player_demographics_df = purchases_file_df.loc[:, [\"Gender\", \"SN\", \"Age\"]]\n",
    "player_demographics_df = player_demographics_df.drop_duplicates()\n",
    "\n",
    "player_demographics_df.head(5)"
   ]
  },
  {
   "cell_type": "code",
   "execution_count": null,
   "metadata": {},
   "outputs": [],
   "source": [
    "# Establishing my bins via Max and Min Ages.\n",
    "\n",
    "max_age=purchases_file_df[\"Age\"].max()\n",
    "min_age=purchases_file_df[\"Age\"].min()\n",
    "    \n",
    "print(max_age)\n",
    "print(min_age)"
   ]
  },
  {
   "cell_type": "code",
   "execution_count": null,
   "metadata": {},
   "outputs": [],
   "source": [
    "# Creating Bins and Labels based on Max & Min ages.\n",
    "\n",
    "#Bins\n",
    "bins=[5,10,15,20,25,30,35,40,45]\n",
    "\n",
    "#Labels\n",
    "bin_labels=[\"Ages from 5-10\",\"Ages from 10-15\",\\\n",
    "            \"Ages from 15-20\",\"Ages from 20-25\",\"Ages from 25-30\",\\\n",
    "            \"Ages from 30-35\",\"Ages from 35-40\",\"Ages from 40-45\"]\n",
    "\n",
    "player_demographics_df[\"Age Demographic Summary\"] = pd.cut(player_demographics_df[\"Age\"], bins, labels=bin_labels, include_lowest=True)\n",
    "player_demographics_df.head(5)"
   ]
  },
  {
   "cell_type": "code",
   "execution_count": null,
   "metadata": {},
   "outputs": [],
   "source": [
    "# Calculate the numbers and percentages by age group\n",
    "players_pergroup=player_demographics_df[\"Age Demographic Summary\"].value_counts()\n",
    "percentage=players_pergroup/total_players\n",
    "\n",
    "# Creating DataFrame with analysis\n",
    "age_demographics=pd.DataFrame({\"Total Count\":players_pergroup, \"Percentage Of Players\": percentage})\n",
    "age_demographics[\"Percentage Of Players\"]=age_demographics['Percentage Of Players'].map(\"{:,.2%}\".format)\n",
    "\n",
    "# Printing DataFrame\n",
    "age_demographics"
   ]
  },
  {
   "cell_type": "markdown",
   "metadata": {},
   "source": [
    "## Purchasing Analysis (Age)"
   ]
  },
  {
   "cell_type": "markdown",
   "metadata": {},
   "source": [
    "* Bin the purchase_data data frame by age\n",
    "\n",
    "\n",
    "* Run basic calculations to obtain purchase count, avg. purchase price, avg. purchase total per person etc. in the table below\n",
    "\n",
    "\n",
    "* Create a summary data frame to hold the results\n",
    "\n",
    "\n",
    "* Optional: give the displayed data cleaner formatting\n",
    "\n",
    "\n",
    "* Display the summary data frame"
   ]
  },
  {
   "cell_type": "code",
   "execution_count": null,
   "metadata": {},
   "outputs": [],
   "source": [
    "# Creating new DataFrame to work with\n",
    "perperson_df= purchases_file_df.loc[:, [\"Purchase ID\",\"SN\", \"Price\", \"Age\"]]\n",
    "perperson_df=perperson_df.drop_duplicates()\n",
    "\n",
    "perperson_df.head(5)"
   ]
  },
  {
   "cell_type": "code",
   "execution_count": null,
   "metadata": {},
   "outputs": [],
   "source": [
    "# Binning Ages.\n",
    "\n",
    "#Bins\n",
    "bins=[5,10,15,20,25,30,35,40,45]\n",
    "\n",
    "#Labels\n",
    "bin_labels=[\"Ages from 5-10\",\"Ages from 10-15\",\\\n",
    "            \"Ages from 15-20\",\"Ages from 20-25\",\"Ages from 25-30\",\\\n",
    "            \"Ages from 30-35\",\"Ages from 35-40\",\"Ages from 40-45\"]\n",
    "\n",
    "\n",
    "perperson_df[\"Purchasing Analysis Per Group of Users (Age)\"]=pd.cut(perperson_df[\"Age\"], bins, labels=bin_labels, include_lowest=True)\n",
    "perperson_df"
   ]
  },
  {
   "cell_type": "code",
   "execution_count": null,
   "metadata": {},
   "outputs": [],
   "source": [
    "# Run basic calculations to obtain purchase count, avg. purchase price, avg. purchase total per person etc.\n",
    "\n",
    "# Purchase Count\n",
    "pergroup_count=perperson_df.groupby([\"Purchasing Analysis Per Group of Users (Age)\"]).count()[\"Price\"]\n",
    "pergroup_count"
   ]
  },
  {
   "cell_type": "code",
   "execution_count": null,
   "metadata": {},
   "outputs": [],
   "source": [
    "# Average Purchase Price\n",
    "pergroup_avg=perperson_df.groupby([\"Purchasing Analysis Per Group of Users (Age)\"]).mean()[\"Price\"]\n",
    "pergroup_avg"
   ]
  },
  {
   "cell_type": "code",
   "execution_count": null,
   "metadata": {},
   "outputs": [],
   "source": [
    "# Purchase Total Per Group\n",
    "\n",
    "pergroup_sum=(perperson_df.groupby([\"Purchasing Analysis Per Group of Users (Age)\"]).sum()[\"Price\"])\n",
    "pergroup_sum"
   ]
  },
  {
   "cell_type": "code",
   "execution_count": null,
   "metadata": {},
   "outputs": [],
   "source": [
    "# Average Purchase Total Per Person\n",
    "\n",
    "normalized_total = pergroup_sum / age_demographics[\"Total Count\"]\n",
    "normalized_total"
   ]
  },
  {
   "cell_type": "code",
   "execution_count": null,
   "metadata": {},
   "outputs": [],
   "source": [
    "# Displaying Final DataFrame with results\n",
    "\n",
    "final_purchase_analysis_age_df=pd.DataFrame({\"Count of User Names by Age Range\": pergroup_count,\\\n",
    "                                            \"Total Purchased Per Age Group\": pergroup_sum,\\\n",
    "                                            \"Average Purchase Price by Age Range\": pergroup_avg,\\\n",
    "                                            \"Avg Total Purchase per Person\":normalized_total})\n",
    "\n",
    "# Formatting Values\n",
    "\n",
    "final_purchase_analysis_age_df[\"Total Purchased Per Age Group\"]=final_purchase_analysis_age_df[\"Total Purchased Per Age Group\"].map(\"${:,.2f}\".format)\n",
    "final_purchase_analysis_age_df[\"Average Purchase Price by Age Range\"]=final_purchase_analysis_age_df[\"Average Purchase Price by Age Range\"].map(\"${:,.2f}\".format)\n",
    "final_purchase_analysis_age_df[\"Avg Total Purchase per Person\"] = final_purchase_analysis_age_df[\"Avg Total Purchase per Person\"].map(\"${:,.2f}\".format)\n",
    "\n",
    "\n",
    "\n",
    "# Printing DataFrame\n",
    "final_purchase_analysis_age_df"
   ]
  },
  {
   "cell_type": "markdown",
   "metadata": {},
   "source": [
    "## Top Spenders"
   ]
  },
  {
   "cell_type": "markdown",
   "metadata": {},
   "source": [
    "* Run basic calculations to obtain the results in the table below\n",
    "\n",
    "\n",
    "* Create a summary data frame to hold the results\n",
    "\n",
    "\n",
    "* Sort the total purchase value column in descending order\n",
    "\n",
    "\n",
    "* Optional: give the displayed data cleaner formatting\n",
    "\n",
    "\n",
    "* Display a preview of the summary data frame\n",
    "\n"
   ]
  },
  {
   "cell_type": "code",
   "execution_count": null,
   "metadata": {},
   "outputs": [],
   "source": [
    "# Total Purchase Value\n",
    "\n",
    "# ES POR VALOR TOTAL DE COMPRA, NO POR NÚMERO DE COMPRAS\n",
    "\n",
    "top_spenders_df=purchases_file_df.loc[:,[\"SN\",\"Age\",\"Price\"]]\n",
    "\n",
    "\n",
    "top_spenders_sn=top_spenders_df.loc[top_spenders_df[\"Price\"].sum(),[\"SN\",\"Age\",\"Price\"]]\n",
    "\n",
    "top_spenders_s\n",
    "\n",
    "\n",
    "\n"
   ]
  },
  {
   "cell_type": "code",
   "execution_count": null,
   "metadata": {},
   "outputs": [],
   "source": [
    "top_spenders_df[\"Top Spenders\"]=pd.cut(top_spenders_df[\"Top Spenders\"])"
   ]
  },
  {
   "cell_type": "code",
   "execution_count": null,
   "metadata": {},
   "outputs": [],
   "source": [
    "purchases_file_df.to_csv(\"Final_purchases_file.csv\", index= False, header=True)"
   ]
  },
  {
   "cell_type": "markdown",
   "metadata": {},
   "source": [
    "## Most Popular Items"
   ]
  },
  {
   "cell_type": "markdown",
   "metadata": {},
   "source": [
    "* Retrieve the Item ID, Item Name, and Item Price columns\n",
    "\n",
    "\n",
    "* Group by Item ID and Item Name. Perform calculations to obtain purchase count, average item price, and total purchase value\n",
    "\n",
    "\n",
    "* Create a summary data frame to hold the results\n",
    "\n",
    "\n",
    "* Sort the purchase count column in descending order\n",
    "\n",
    "\n",
    "* Optional: give the displayed data cleaner formatting\n",
    "\n",
    "\n",
    "* Display a preview of the summary data frame\n",
    "\n"
   ]
  },
  {
   "cell_type": "code",
   "execution_count": null,
   "metadata": {},
   "outputs": [],
   "source": []
  },
  {
   "cell_type": "markdown",
   "metadata": {},
   "source": [
    "## Most Profitable Items"
   ]
  },
  {
   "cell_type": "markdown",
   "metadata": {},
   "source": [
    "* Sort the above table by total purchase value in descending order\n",
    "\n",
    "\n",
    "* Optional: give the displayed data cleaner formatting\n",
    "\n",
    "\n",
    "* Display a preview of the data frame\n",
    "\n"
   ]
  },
  {
   "cell_type": "code",
   "execution_count": null,
   "metadata": {
    "scrolled": true
   },
   "outputs": [],
   "source": []
  }
 ],
 "metadata": {
  "anaconda-cloud": {},
  "kernel_info": {
   "name": "python3"
  },
  "kernelspec": {
   "display_name": "Python 3",
   "language": "python",
   "name": "python3"
  },
  "language_info": {
   "codemirror_mode": {
    "name": "ipython",
    "version": 3
   },
   "file_extension": ".py",
   "mimetype": "text/x-python",
   "name": "python",
   "nbconvert_exporter": "python",
   "pygments_lexer": "ipython3",
   "version": "3.8.5"
  },
  "latex_envs": {
   "LaTeX_envs_menu_present": true,
   "autoclose": false,
   "autocomplete": true,
   "bibliofile": "biblio.bib",
   "cite_by": "apalike",
   "current_citInitial": 1,
   "eqLabelWithNumbers": true,
   "eqNumInitial": 1,
   "hotkeys": {
    "equation": "Ctrl-E",
    "itemize": "Ctrl-I"
   },
   "labels_anchors": false,
   "latex_user_defs": false,
   "report_style_numbering": false,
   "user_envs_cfg": false
  },
  "nteract": {
   "version": "0.2.0"
  }
 },
 "nbformat": 4,
 "nbformat_minor": 2
}
